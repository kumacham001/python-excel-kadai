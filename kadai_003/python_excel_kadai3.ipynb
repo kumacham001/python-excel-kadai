{
  "nbformat": 4,
  "nbformat_minor": 0,
  "metadata": {
    "colab": {
      "provenance": []
    },
    "kernelspec": {
      "name": "python3",
      "display_name": "Python 3"
    },
    "language_info": {
      "name": "python"
    }
  },
  "cells": [
    {
      "cell_type": "code",
      "execution_count": 9,
      "metadata": {
        "id": "eF3wtHFUKhxP",
        "colab": {
          "base_uri": "https://localhost:8080/"
        },
        "outputId": "06bb2209-c7b7-4ac7-910a-779304724626"
      },
      "outputs": [
        {
          "output_type": "stream",
          "name": "stdout",
          "text": [
            "          商品   売上年  金額（千円）\n",
            "0   アロマキャンドル  2022    1710\n",
            "1   アロマキャンドル  2023     900\n",
            "2      コーヒー豆  2023     860\n",
            "3       セッケン  2022    1300\n",
            "4       セッケン  2023    1300\n",
            "5       ハチミツ  2022    1860\n",
            "6       ハチミツ  2023    1000\n",
            "7      フライパン  2023     670\n",
            "8     ワイングラス  2022     850\n",
            "9     ワイングラス  2023     850\n",
            "10        包丁  2022     940\n",
            "11        包丁  2023     940\n",
            "12        水筒  2022    1150\n",
            "13        水筒  2023    1400\n",
            "14        紅茶  2022    2000\n",
            "15        紅茶  2023    1870\n"
          ]
        }
      ],
      "source": [
        "import pandas as pd\n",
        "import openpyxl\n",
        "from openpyxl import Workbook\n",
        "from openpyxl.styles import PatternFill\n",
        "\n",
        "# ファイルのリストを作成\n",
        "file_list = ['2022_年間売上表.xlsx', '2023_年間売上表.xlsx']\n",
        "\n",
        "# データフレームを作成\n",
        "df = pd.DataFrame()\n",
        "\n",
        "# ファイルを一つずつ処理する\n",
        "for file_name in file_list:\n",
        "    # Excelファイルを読み込む\n",
        "    temp_df = pd.read_excel(file_name)\n",
        "\n",
        "    # データフレームの列名を指定\n",
        "    temp_df.columns = ['売上年', '商品', '金額（千円）']\n",
        "\n",
        "    # concat()でデータフレームを連結\n",
        "    df = pd.concat([df, temp_df], ignore_index=True)\n",
        "\n",
        "# グループ化\n",
        "grouped = df.groupby(['商品','売上年']).agg({'金額（千円）': 'sum'}).reset_index()\n",
        "print(grouped)\n",
        "\n",
        "# Excelファイルに書き出す\n",
        "output_file = '売上集計表.xlsx'\n",
        "writer=pd.ExcelWriter(output_file)\n",
        "grouped.to_excel(writer, sheet_name='Sheet1', index=False)\n",
        "writer.close()\n",
        "\n",
        "# Excelファイルのフォーマット設定\n",
        "Workbook = openpyxl.load_workbook(output_file)\n",
        "ws = Workbook.active\n",
        "\n",
        "# セルの色\n",
        "light_gray = PatternFill(patternType='solid', fgColor='F2F2F2')\n",
        "for row in ws['A1:C1']:\n",
        "    for cell in row:\n",
        "        cell.fill = light_gray\n",
        "\n",
        "# セルの幅\n",
        "ws.column_dimensions['A'].width = 16.5   # A列の幅\n",
        "ws.column_dimensions['C'].width = 11.25  # C列の幅\n",
        "\n",
        "Workbook.save(output_file)\n"
      ]
    },
    {
      "cell_type": "markdown",
      "source": [],
      "metadata": {
        "id": "RholM5FQtI1H"
      }
    }
  ]
}