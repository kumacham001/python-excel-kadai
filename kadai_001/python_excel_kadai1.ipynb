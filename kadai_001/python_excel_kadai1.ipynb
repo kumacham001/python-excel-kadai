{
  "nbformat": 4,
  "nbformat_minor": 0,
  "metadata": {
    "colab": {
      "provenance": []
    },
    "kernelspec": {
      "name": "python3",
      "display_name": "Python 3"
    },
    "language_info": {
      "name": "python"
    }
  },
  "cells": [
    {
      "cell_type": "code",
      "source": [
        "import openpyxl\n",
        "from datetime import datetime\n",
        "\n",
        "# 新規ワークブックを作成\n",
        "wb = openpyxl.Workbook()\n",
        "ws = wb.active\n",
        "#今日の日付取得\n",
        "today = datetime.today()\n",
        "#請求書番号\n",
        "id_num = 1\n",
        "\n",
        "#ヘッダ部\n",
        "ws['B2'].value = '請求書'\n",
        "ws['B4'].value = '株式会社ABC'\n",
        "ws['B5'].value = '〒101-0022 東京都千代田区神田練塀町300'\n",
        "ws['B6'].value = 'TEL:03-1234-5678 FAX:03-1234-5678'\n",
        "ws['B7'].value = '担当者名:鈴木一郎 様'\n",
        "\n",
        "ws['F4'].value = 'No.'\n",
        "ws['G4'].value = formatted_id = f\"{id_num:04}\"\n",
        "\n",
        "ws['F5'].value = '日付'\n",
        "ws['G5'].value = today.strftime('%Y/%m/%d')\n",
        "\n",
        "#データ部\n",
        "header = ['商品名', '数量', '単価', '金額']\n",
        "start_row = 10\n",
        "start_col = 2\n",
        "for col_num, col_name in enumerate(header, start=start_col):\n",
        "    ws.cell(row=start_row, column=col_num, value=col_name)\n",
        "\n",
        "data = [\n",
        "    ['商品A', 2, 10000],\n",
        "    ['商品B', 1, 15000]\n",
        "]\n",
        "for row_num, item in enumerate(data, start=start_row + 1):\n",
        "    for col_num, value in enumerate(item, start=start_col):\n",
        "        ws.cell(row=row_num, column=col_num, value=value)\n",
        "\n",
        "    # 売上の計算式をD列（4番目の列）に記入\n",
        "    quantity_cell = ws.cell(row=row_num, column=start_col + 1).coordinate # 数量セル\n",
        "    price_cell = ws.cell(row=row_num, column=start_col + 2).coordinate    # 単価セル\n",
        "    sales_cell = ws.cell(row=row_num, column=start_col + 3)               # 売上セル\n",
        "    sales_cell.value = f\"={quantity_cell}*{price_cell}\"                   # 計算式:数量*単価\n",
        "\n",
        "#フッタ部\n",
        "quantity_cell_s = ws.cell(row=11, column=5).coordinate               # 先頭行単価セル\n",
        "quantity_cell_e = ws.cell(row=row_num, column=5).coordinate          # 最終行単価セル\n",
        "total_cell1 = ws.cell(row=row_num + 1, column=5).coordinate          # 合計セル1\n",
        "total_cell2 = ws.cell(row=row_num + 3, column=5).coordinate          # 合計セル2\n",
        "tax_cell = ws.cell(row=row_num + 4, column=start_col + 3).coordinate # 消費税セル\n",
        "\n",
        "ws.cell(row=row_num+3, column=2).value='合計'\n",
        "ws.cell(row=row_num+4, column=2).value='消費税'\n",
        "ws.cell(row=row_num+5, column=2).value='税込金額'\n",
        "ws.cell(row=row_num+1, column=5).value=f\"=SUM({quantity_cell_s}:{quantity_cell_e})\" # 計算式:合計1\n",
        "ws.cell(row=row_num+3, column=5).value=f\"={total_cell1}\"                            # 計算式:合計2\n",
        "ws.cell(row=row_num+4, column=5).value=f\"={total_cell2}*0.1\"                        # 計算式:消費税\n",
        "ws.cell(row=row_num+5, column=5).value=f\"=SUM({total_cell2}:{tax_cell})\"            # 計算式:税込金額\n",
        "\n",
        "# 列幅の設定\n",
        "ws.column_dimensions['E'].width = 10  # E列の幅を15に設定\n",
        "\n",
        "# 保存\n",
        "backup_filename = f\"請求書_{today.strftime('%Y%m%d')}.xlsx\"\n",
        "wb.save(backup_filename)"
      ],
      "metadata": {
        "id": "vht0_lqd0VY5"
      },
      "execution_count": 18,
      "outputs": []
    },
    {
      "cell_type": "code",
      "source": [],
      "metadata": {
        "id": "3plwuhD8hW7Z"
      },
      "execution_count": null,
      "outputs": []
    }
  ]
}